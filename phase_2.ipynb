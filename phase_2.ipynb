{
 "cells": [
  {
   "cell_type": "markdown",
   "id": "ab1c018b",
   "metadata": {},
   "source": [
    "## numpy Array operations\n"
   ]
  },
  {
   "cell_type": "code",
   "execution_count": 19,
   "id": "bd59a97b",
   "metadata": {},
   "outputs": [],
   "source": [
    "import numpy as np"
   ]
  },
  {
   "cell_type": "markdown",
   "id": "7e17511e",
   "metadata": {},
   "source": [
    "### Slicing of Array\n"
   ]
  },
  {
   "cell_type": "code",
   "execution_count": null,
   "id": "20fcf54f",
   "metadata": {},
   "outputs": [
    {
     "name": "stdout",
     "output_type": "stream",
     "text": [
      "Array:  [ 0  1  2  3  4  5  6  7  8  9 10]\n",
      "Basic Slicing:  [2 3 4 5 6]\n",
      "With step:  [1 3 5 7]\n",
      "Nagative indexing 8\n"
     ]
    }
   ],
   "source": [
    "arr = np.arange(11)\n",
    "\n",
    "print(\"Array: \", arr)\n",
    "\n",
    "print(\"Basic Slicing: \", arr[2:7])\n",
    "\n",
    "print(\"With step: \", arr[1:8:2])  # takes every second element of an array\n",
    "\n",
    "print(\"Nagative indexing\", arr[-3])"
   ]
  },
  {
   "cell_type": "markdown",
   "id": "3a342332",
   "metadata": {},
   "source": [
    "### Slicing of 2d Array\n"
   ]
  },
  {
   "cell_type": "code",
   "execution_count": 21,
   "id": "246b1538",
   "metadata": {},
   "outputs": [
    {
     "name": "stdout",
     "output_type": "stream",
     "text": [
      "Specific element:  6\n",
      "Entire row:  [4 5 6]\n",
      "Entire coulmn:  [2 5 8]\n"
     ]
    }
   ],
   "source": [
    "arr_2d = np.array([[1, 2, 3], [4, 5, 6], [7, 8, 9]])\n",
    "\n",
    "print(\"Specific element: \", arr_2d[1, 2])  # gives 2nd element of the 1st row\n",
    "\n",
    "print(\"Entire row: \", arr_2d[1])  # gives entire 1st row\n",
    "\n",
    "print(\"Entire coulmn: \", arr_2d[:, 1])  # gives entire 1st column"
   ]
  },
  {
   "cell_type": "markdown",
   "id": "e0a8880e",
   "metadata": {},
   "source": [
    "## Sorting\n"
   ]
  },
  {
   "cell_type": "code",
   "execution_count": 22,
   "id": "a3ced248",
   "metadata": {},
   "outputs": [
    {
     "name": "stdout",
     "output_type": "stream",
     "text": [
      "Sorted array:  [1 1 2 3 3 4 5 6 7 8 9]\n",
      "Unsorted 2D array: \n",
      " [[3 1]\n",
      " [1 2]\n",
      " [2 3]]\n",
      "Sorted 2D array by column: \n",
      " [[1 1]\n",
      " [2 2]\n",
      " [3 3]]\n",
      "Sorted 2D array by eow: \n",
      " [[1 3]\n",
      " [1 2]\n",
      " [2 3]]\n"
     ]
    }
   ],
   "source": [
    "unsorted_arr = np.array([1, 6, 3, 4, 8, 5, 7, 9, 3, 2, 1])\n",
    "print(\"Sorted array: \", np.sort(unsorted_arr))\n",
    "\n",
    "arr_2d_unsorted = np.array([[3, 1], [1, 2], [2, 3]])\n",
    "print(\"Unsorted 2D array: \\n\", arr_2d_unsorted)\n",
    "print(\n",
    "    \"Sorted 2D array by column: \\n\", np.sort(arr_2d_unsorted, axis=0)\n",
    ")  # 0 meams column\n",
    "print(\"Sorted 2D array by eow: \\n\", np.sort(arr_2d_unsorted, axis=1))  # 1 means row"
   ]
  },
  {
   "cell_type": "markdown",
   "id": "af695273",
   "metadata": {},
   "source": [
    "## Filter\n"
   ]
  },
  {
   "cell_type": "code",
   "execution_count": null,
   "id": "8c45e53d",
   "metadata": {},
   "outputs": [
    {
     "name": "stdout",
     "output_type": "stream",
     "text": [
      "Even Numbers:  [ 2  4  6  8 10]\n"
     ]
    }
   ],
   "source": [
    "numbers = np.array([1, 2, 3, 4, 5, 6, 7, 8, 9, 10])\n",
    "even_numbers = numbers[numbers % 2 == 0]\n",
    "print(\"Even Numbers: \", even_numbers)"
   ]
  },
  {
   "cell_type": "markdown",
   "id": "a3f0fba3",
   "metadata": {},
   "source": [
    "### filter with mask\n"
   ]
  },
  {
   "cell_type": "code",
   "execution_count": null,
   "id": "d49d79b6",
   "metadata": {},
   "outputs": [
    {
     "name": "stdout",
     "output_type": "stream",
     "text": [
      "Numbers grater than 5:  [ 6  7  8  9 10]\n"
     ]
    }
   ],
   "source": [
    "mask = numbers > 5\n",
    "print(\"Numbers grater than 5: \", numbers[mask])"
   ]
  },
  {
   "cell_type": "markdown",
   "id": "25b2b0c4",
   "metadata": {},
   "source": [
    "## Fnncy indexing V/S np.where()\n"
   ]
  },
  {
   "cell_type": "code",
   "execution_count": null,
   "id": "0a729743",
   "metadata": {},
   "outputs": [
    {
     "name": "stdout",
     "output_type": "stream",
     "text": [
      "[1 3 5]\n",
      "Np where:  [ 7  8  9 10]\n"
     ]
    }
   ],
   "source": [
    "indices = [0, 2, 4]\n",
    "print(numbers[indices])\n",
    "\n",
    "where_results = np.where(numbers > 6)\n",
    "# print(where_results)\n",
    "print(\"Np where: \", numbers[where_results])"
   ]
  },
  {
   "cell_type": "code",
   "execution_count": null,
   "id": "21e485f1",
   "metadata": {},
   "outputs": [
    {
     "name": "stdout",
     "output_type": "stream",
     "text": [
      "Condition array:  [ 1  2  3  4  5 12 14 16 18 20]\n"
     ]
    }
   ],
   "source": [
    "condition_array = np.where(numbers > 5, numbers * 2, numbers)\n",
    "# This line says create an array with numbers and the elements which is grater than 5 multiply them by 2\n",
    "# its like if else if(numbers>5):numbers*2  else: numbers\n",
    "print(\"Condition array: \", condition_array)"
   ]
  },
  {
   "cell_type": "markdown",
   "id": "5f2b16ca",
   "metadata": {},
   "source": [
    "## Adding and Removing data\n"
   ]
  },
  {
   "cell_type": "code",
   "execution_count": null,
   "id": "399c844e",
   "metadata": {},
   "outputs": [
    {
     "name": "stdout",
     "output_type": "stream",
     "text": [
      "Combined Array:  [1 2 3 4 5 6]\n"
     ]
    }
   ],
   "source": [
    "arr1 = np.array([1, 2, 3])\n",
    "arr2 = np.array([4, 5, 6])\n",
    "\n",
    "combined = np.concatenate((arr1, arr2))  # merge two arrays\n",
    "print(\"Combined Array: \", combined)"
   ]
  },
  {
   "cell_type": "markdown",
   "id": "a49a8e78",
   "metadata": {},
   "source": [
    "### Array compatiblity\n"
   ]
  },
  {
   "cell_type": "code",
   "execution_count": null,
   "id": "330fe457",
   "metadata": {},
   "outputs": [
    {
     "name": "stdout",
     "output_type": "stream",
     "text": [
      "Compatiblity shape:  False\n"
     ]
    }
   ],
   "source": [
    "a = np.array([1, 2, 3])\n",
    "b = np.array([4, 5, 6])\n",
    "c = np.array([7, 8, 9])\n",
    "\n",
    "print(\"Compatiblity shape: \", a.shape == b.shape == c.shape)"
   ]
  },
  {
   "cell_type": "markdown",
   "id": "993370f0",
   "metadata": {},
   "source": [
    "### Add data through vstack and hstack"
   ]
  },
  {
   "cell_type": "code",
   "execution_count": null,
   "id": "79266701",
   "metadata": {},
   "outputs": [
    {
     "name": "stdout",
     "output_type": "stream",
     "text": [
      "Origianl array: \n",
      " [[1 2]\n",
      " [3 4]]\n",
      "\n",
      "With new row: \n",
      " [[1 2]\n",
      " [3 4]\n",
      " [5 6]]\n",
      "\n",
      "With new column: \n",
      " [[1 2 7]\n",
      " [3 4 8]]\n"
     ]
    }
   ],
   "source": [
    "origional = np.array([[1, 2], [3, 4]])\n",
    "\n",
    "new_row = np.array([5, 6])\n",
    "with_new_row = np.vstack((origional, new_row))  # adds new row\n",
    "print(\"Origianl array: \\n\", origional)\n",
    "print(\"\\nWith new row: \\n\", with_new_row)\n",
    "\n",
    "new_col = np.array([[7], [8]])\n",
    "with_new_col = np.hstack((origional, new_col))  # adds new column\n",
    "print(\"\\nWith new column: \\n\", with_new_col)"
   ]
  },
  {
   "cell_type": "markdown",
   "id": "b7db780d",
   "metadata": {},
   "source": [
    "### remove data through .delete()"
   ]
  },
  {
   "cell_type": "code",
   "execution_count": null,
   "id": "738b7590",
   "metadata": {},
   "outputs": [
    {
     "name": "stdout",
     "output_type": "stream",
     "text": [
      "Deleted array:  [1 2 4 5]\n",
      "Deleted 2d array: \n",
      " [[3 4]\n",
      " [5 6]]\n"
     ]
    }
   ],
   "source": [
    "arr = np.array([1, 2, 3, 4, 5])\n",
    "deleted_arr = np.delete(arr, 2)\n",
    "print(\"Deleted array: \", deleted_arr)\n",
    "\n",
    "arr_2d = [[1, 2], [3, 4], [5, 6]]\n",
    "deleted_2d_arr = np.delete(arr_2d, 0, axis=0)  \n",
    "# first argument is the array you want to delete\n",
    "# second argument is the index of that row or colums\n",
    "# third argument is the axis 0 for row 1 for column\n",
    "print(\"Deleted 2d array: \\n\", deleted_2d_arr)"
   ]
  },
  {
   "cell_type": "code",
   "execution_count": null,
   "id": "83324c65",
   "metadata": {},
   "outputs": [],
   "source": []
  }
 ],
 "metadata": {
  "kernelspec": {
   "display_name": "venv",
   "language": "python",
   "name": "python3"
  },
  "language_info": {
   "codemirror_mode": {
    "name": "ipython",
    "version": 3
   },
   "file_extension": ".py",
   "mimetype": "text/x-python",
   "name": "python",
   "nbconvert_exporter": "python",
   "pygments_lexer": "ipython3",
   "version": "3.13.5"
  }
 },
 "nbformat": 4,
 "nbformat_minor": 5
}
