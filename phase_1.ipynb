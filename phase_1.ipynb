{
 "cells": [
  {
   "cell_type": "markdown",
   "id": "7445c291",
   "metadata": {},
   "source": [
    "## Numpy Arrays and basics\n",
    "\n",
    "Learn about Numpy\n"
   ]
  },
  {
   "cell_type": "code",
   "execution_count": 1,
   "id": "52226631",
   "metadata": {},
   "outputs": [],
   "source": [
    "import numpy as np"
   ]
  },
  {
   "cell_type": "markdown",
   "id": "1cbc773a",
   "metadata": {},
   "source": [
    "### creating arrays from list ----\n"
   ]
  },
  {
   "cell_type": "code",
   "execution_count": 2,
   "id": "c86efe6a",
   "metadata": {},
   "outputs": [
    {
     "name": "stdout",
     "output_type": "stream",
     "text": [
      "1d array:  [1 2 3 4 5]\n",
      "2d array:  [[1 2 3 4 5]\n",
      " [1 2 3 4 5]]\n"
     ]
    }
   ],
   "source": [
    "arr_1d = np.array([1, 2, 3, 4, 5])\n",
    "print(\"1d array: \", arr_1d)\n",
    "\n",
    "arr_2d = np.array([[1, 2, 3, 4, 5],[1, 2, 3, 4, 5]])\n",
    "print(\"2d array: \", arr_2d)"
   ]
  },
  {
   "cell_type": "markdown",
   "id": "ae29aa81",
   "metadata": {},
   "source": [
    "### list VS numpy array --"
   ]
  },
  {
   "cell_type": "code",
   "execution_count": 3,
   "id": "806967e1",
   "metadata": {},
   "outputs": [
    {
     "name": "stdout",
     "output_type": "stream",
     "text": [
      "multiplication of py list:  [1, 2, 3, 4, 1, 2, 3, 4]\n",
      "multiplication of numpy array:  [2 4 6 8]\n",
      "\n",
      " Python List operation time:  0.00033473968505859375\n",
      "\n",
      " np Array operation time:  8.726119995117188e-05\n"
     ]
    }
   ],
   "source": [
    "py_list = [1, 2, 3, 4]\n",
    "print(\"multiplication of py list: \", py_list * 2)\n",
    "\n",
    "np_array = np.array([1, 2, 3, 4])  # element wise multiplicition\n",
    "print(\"multiplication of numpy array: \", np_array * 2)\n",
    "\n",
    "import time\n",
    "\n",
    "start = time.time()\n",
    "py_list = [i * 2 for i in range(100)] # for small operationa like 100 py_list can beat numpy\n",
    "print(\"\\n Python List operation time: \", time.time() - start)\n",
    "\n",
    "start = time.time()\n",
    "np_array = np.arange(100) * 2   # but for large operations like 10000000  numpy arrays are way faster than lists\n",
    "print(\"\\n np Array operation time: \", time.time() - start)\n"
   ]
  },
  {
   "cell_type": "markdown",
   "id": "04c37ec8",
   "metadata": {},
   "source": [
    "### Creating Arraus from scratch ---"
   ]
  },
  {
   "cell_type": "code",
   "execution_count": 4,
   "id": "b01f6f82",
   "metadata": {},
   "outputs": [
    {
     "name": "stdout",
     "output_type": "stream",
     "text": [
      "Zeros matrice: \n",
      " [[0. 0. 0. 0.]\n",
      " [0. 0. 0. 0.]\n",
      " [0. 0. 0. 0.]]\n",
      "Ones matrice: \n",
      " [[1. 1. 1. 1.]\n",
      " [1. 1. 1. 1.]\n",
      " [1. 1. 1. 1.]]\n",
      "full matrice: \n",
      " [[7 7 7 7]\n",
      " [7 7 7 7]\n",
      " [7 7 7 7]]\n",
      "random matrice: \n",
      " [[0.11351097 0.01109973 0.02497157 0.53953767]\n",
      " [0.66792081 0.34980287 0.48136957 0.07570373]\n",
      " [0.82486213 0.63968248 0.85420282 0.10442788]]\n",
      "Sequence array: \n",
      " [ 0  2  4  6  8 10]\n"
     ]
    }
   ],
   "source": [
    "# matrices are just 2d arrays\n",
    "\n",
    "zero_s = np.zeros((3, 4))  \n",
    "print(\"Zeros matrice: \\n\", zero_s)\n",
    "\n",
    "one_s = np.ones((3, 4))\n",
    "print(\"Ones matrice: \\n\", one_s)\n",
    "\n",
    "ful_l = np.full((3, 4), 7) # create a matices with a constant value like here 7\n",
    "print(\"full matrice: \\n\", ful_l)\n",
    "\n",
    "rando_m = np.random.random((3,4)) # random is a class there are multiple methods inside random like here random()\n",
    "print(\"random matrice: \\n\", rando_m)\n",
    "\n",
    "sequence= np.arange(0,11,2)  # most used method for creating array and matrices\n",
    "print(\"Sequence array: \\n\", sequence)"
   ]
  },
  {
   "cell_type": "markdown",
   "id": "772506ac",
   "metadata": {},
   "source": [
    "### Vector Matrix and Tensor ---"
   ]
  },
  {
   "cell_type": "code",
   "execution_count": 5,
   "id": "b50fc511",
   "metadata": {},
   "outputs": [
    {
     "name": "stdout",
     "output_type": "stream",
     "text": [
      "Vector:  [1 2 3]\n",
      "Matrix: \n",
      " [[1 2 3]\n",
      " [1 2 3]]\n",
      "Tensor: \n",
      " [[[1 2]\n",
      "  [3 4]]\n",
      "\n",
      " [[5 6]\n",
      "  [7 8]]]\n"
     ]
    }
   ],
   "source": [
    "vector = np.array([1, 2, 3])\n",
    "print(\"Vector: \", vector)\n",
    "\n",
    "matrix = np.array([[1, 2, 3], [1, 2, 3]])\n",
    "print(\"Matrix: \\n\", matrix)\n",
    "\n",
    "tensor = np.array([[[1, 2], [3, 4]], [[5, 6], [7, 8]]])\n",
    "print(\"Tensor: \\n\", tensor)"
   ]
  },
  {
   "cell_type": "markdown",
   "id": "f9b38979",
   "metadata": {},
   "source": [
    "### Array proerties ------"
   ]
  },
  {
   "cell_type": "code",
   "execution_count": 6,
   "id": "0c2574b3",
   "metadata": {},
   "outputs": [
    {
     "name": "stdout",
     "output_type": "stream",
     "text": [
      "Shape:  (2, 3)\n",
      "Dimension:  2\n",
      "Size:  6\n",
      "Data-Type:  int64\n"
     ]
    }
   ],
   "source": [
    "arr = np.array([[1, 2, 3], [4, 5, 6]])\n",
    "\n",
    "print(\"Shape: \",arr.shape)\n",
    "print(\"Dimension: \",arr.ndim)\n",
    "print(\"Size: \",arr.size)\n",
    "print(\"Data-Type: \",arr.dtype)\n"
   ]
  },
  {
   "cell_type": "markdown",
   "id": "5dfb7acc",
   "metadata": {},
   "source": [
    "### Array Reshaping -----"
   ]
  },
  {
   "cell_type": "code",
   "execution_count": 7,
   "id": "2ec577a0",
   "metadata": {},
   "outputs": [
    {
     "name": "stdout",
     "output_type": "stream",
     "text": [
      "Origional Array:  [ 0  1  2  3  4  5  6  7  8  9 10 11]\n",
      "Reshaped Array: \n",
      " [[ 0  1  2  3]\n",
      " [ 4  5  6  7]\n",
      " [ 8  9 10 11]]\n",
      "Flattened Matrix: \n",
      " [ 0  1  2  3  4  5  6  7  8  9 10 11]\n",
      "Raveled Matrix: \n",
      " [ 0  1  2  3  4  5  6  7  8  9 10 11]\n",
      "Transposed Matrix: \n",
      " [[ 0  4  8]\n",
      " [ 1  5  9]\n",
      " [ 2  6 10]\n",
      " [ 3  7 11]]\n"
     ]
    }
   ],
   "source": [
    "arr = np.arange(12)\n",
    "print(\"Origional Array: \", arr)\n",
    "\n",
    "reshaped = arr.reshape((3, 4))\n",
    "print(\"Reshaped Array: \\n\", reshaped)\n",
    "\n",
    "flattened = reshaped.flatten()\n",
    "print(\"Flattened Matrix: \\n\", flattened)\n",
    "\n",
    "raveled = reshaped.ravel() # ravel(returns view instead of coppy)\n",
    "print(\"Raveled Matrix: \\n\", raveled)\n",
    "\n",
    "transpose=reshaped.T  # Transpose\n",
    "print(\"Transposed Matrix: \\n\", transpose)"
   ]
  },
  {
   "cell_type": "code",
   "execution_count": null,
   "id": "f55e352c",
   "metadata": {},
   "outputs": [],
   "source": []
  }
 ],
 "metadata": {
  "kernelspec": {
   "display_name": "venv",
   "language": "python",
   "name": "python3"
  },
  "language_info": {
   "codemirror_mode": {
    "name": "ipython",
    "version": 3
   },
   "file_extension": ".py",
   "mimetype": "text/x-python",
   "name": "python",
   "nbconvert_exporter": "python",
   "pygments_lexer": "ipython3",
   "version": "3.13.5"
  }
 },
 "nbformat": 4,
 "nbformat_minor": 5
}
